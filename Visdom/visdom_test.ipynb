{
 "cells": [
  {
   "attachments": {},
   "cell_type": "markdown",
   "metadata": {},
   "source": [
    "visdom是Facebook专门为PyTorch开发的一款可视化工具， 可以直接对Tensor进行操作。\n",
    "\n",
    "通过pip install visdom等方式成功安装完之后，开启服务：\n",
    "```\n",
    "python3 -m visdom.server\n",
    "```\n"
   ]
  },
  {
   "cell_type": "code",
   "execution_count": 14,
   "metadata": {},
   "outputs": [
    {
     "name": "stderr",
     "output_type": "stream",
     "text": [
      "Setting up a new session...\n"
     ]
    }
   ],
   "source": [
    "#练习使用深度学习可视化库Visdom\n",
    "import visdom\n",
    "\n",
    "#开启一个visdom环境\n",
    "vis = visdom.Visdom(env='model_6Mb') #建议以模型名+tag来命名"
   ]
  },
  {
   "attachments": {},
   "cell_type": "markdown",
   "metadata": {},
   "source": [
    "在浏览器中输入 http://localhost:8097 就能在Enviroument里面看到我们的环境。"
   ]
  },
  {
   "cell_type": "code",
   "execution_count": 15,
   "metadata": {},
   "outputs": [],
   "source": [
    "#文字输出\n",
    "vis.text('Hello World', win='text1')\n",
    "for i in range(10):\n",
    "    vis.text('Haha*{}'.format(i+1), win=\"Value\", append=True) #会追加"
   ]
  },
  {
   "cell_type": "code",
   "execution_count": 16,
   "metadata": {},
   "outputs": [],
   "source": [
    "#绘制曲线\n",
    "import torch\n",
    "x = torch.arange(10)\n",
    "loss = torch.rand(10)\n",
    "vis.line(loss,x,win=\"test_line\")\n",
    "\n",
    "#注意是先输入Y再输入X，且必须是维度至少为1的张量\n",
    "for epoch in range(100):\n",
    "    vis.line(torch.Tensor([epoch*epoch]), torch.Tensor([epoch]), \\\n",
    "        win=\"Loss_Epoch\", update='append' if epoch>0 else None, opts={'name_y1':'Name'})\n",
    "\n",
    "#值得一提的是，从这里可以发现其实这个可视化库运行得比较慢，但在可以接受的水平"
   ]
  },
  {
   "cell_type": "code",
   "execution_count": 17,
   "metadata": {},
   "outputs": [
    {
     "data": {
      "text/plain": [
       "'property'"
      ]
     },
     "execution_count": 17,
     "metadata": {},
     "output_type": "execute_result"
    }
   ],
   "source": [
    "properties = [\n",
    "    {'type': 'text', 'name': 'Text input', 'value': 'initial'},\n",
    "    {'type': 'number', 'name': 'Number input', 'value': '12'},\n",
    "    {'type': 'button', 'name': 'Button', 'value': 'Start'},\n",
    "    {'type': 'checkbox', 'name': 'Checkbox', 'value': True},\n",
    "    {'type': 'select', 'name': 'Select', 'value': 1, 'values': ['Red', 'Green', 'Blue']},\n",
    "]\n",
    "vis.properties(properties, win='property')"
   ]
  },
  {
   "cell_type": "code",
   "execution_count": 18,
   "metadata": {},
   "outputs": [
    {
     "data": {
      "text/plain": [
       "'local_map'"
      ]
     },
     "execution_count": 18,
     "metadata": {},
     "output_type": "execute_result"
    }
   ],
   "source": [
    "#曲面图\n",
    "a = torch.arange(-50,50).unsqueeze(0)\n",
    "\n",
    "local_map = torch.mm(a.T,a)\n",
    "local_map = -local_map ** 2 \n",
    "vis.surf(local_map, win='local_map')"
   ]
  },
  {
   "cell_type": "code",
   "execution_count": null,
   "metadata": {},
   "outputs": [
    {
     "name": "stderr",
     "output_type": "stream",
     "text": [
      "[WinError 10054] 远程主机强迫关闭了一个现有的连接。\n",
      "[WinError 10054] 远程主机强迫关闭了一个现有的连接。\n",
      "on_close() takes 1 positional argument but 3 were given\n",
      "on_close() takes 1 positional argument but 3 were given\n",
      "[WinError 10061] 由于目标计算机积极拒绝，无法连接。\n",
      "[WinError 10061] 由于目标计算机积极拒绝，无法连接。\n",
      "on_close() takes 1 positional argument but 3 were given\n",
      "on_close() takes 1 positional argument but 3 were given\n",
      "[WinError 10061] 由于目标计算机积极拒绝，无法连接。\n",
      "[WinError 10061] 由于目标计算机积极拒绝，无法连接。\n",
      "on_close() takes 1 positional argument but 3 were given\n",
      "on_close() takes 1 positional argument but 3 were given\n",
      "[WinError 10061] 由于目标计算机积极拒绝，无法连接。\n",
      "[WinError 10061] 由于目标计算机积极拒绝，无法连接。\n",
      "on_close() takes 1 positional argument but 3 were given\n",
      "on_close() takes 1 positional argument but 3 were given\n",
      "[WinError 10061] 由于目标计算机积极拒绝，无法连接。\n",
      "on_close() takes 1 positional argument but 3 were given\n",
      "[WinError 10061] 由于目标计算机积极拒绝，无法连接。\n",
      "on_close() takes 1 positional argument but 3 were given\n",
      "[WinError 10061] 由于目标计算机积极拒绝，无法连接。\n",
      "on_close() takes 1 positional argument but 3 were given\n",
      "[WinError 10061] 由于目标计算机积极拒绝，无法连接。\n",
      "on_close() takes 1 positional argument but 3 were given\n",
      "[WinError 10061] 由于目标计算机积极拒绝，无法连接。\n",
      "on_close() takes 1 positional argument but 3 were given\n",
      "[WinError 10061] 由于目标计算机积极拒绝，无法连接。\n",
      "on_close() takes 1 positional argument but 3 were given\n",
      "[WinError 10061] 由于目标计算机积极拒绝，无法连接。\n",
      "on_close() takes 1 positional argument but 3 were given\n",
      "[WinError 10061] 由于目标计算机积极拒绝，无法连接。\n",
      "on_close() takes 1 positional argument but 3 were given\n",
      "[WinError 10061] 由于目标计算机积极拒绝，无法连接。\n",
      "on_close() takes 1 positional argument but 3 were given\n",
      "[WinError 10061] 由于目标计算机积极拒绝，无法连接。\n",
      "on_close() takes 1 positional argument but 3 were given\n",
      "[WinError 10061] 由于目标计算机积极拒绝，无法连接。\n",
      "[WinError 10061] 由于目标计算机积极拒绝，无法连接。\n",
      "on_close() takes 1 positional argument but 3 were given\n",
      "on_close() takes 1 positional argument but 3 were given\n",
      "[WinError 10061] 由于目标计算机积极拒绝，无法连接。\n",
      "[WinError 10061] 由于目标计算机积极拒绝，无法连接。\n",
      "on_close() takes 1 positional argument but 3 were given\n",
      "on_close() takes 1 positional argument but 3 were given\n",
      "[WinError 10061] 由于目标计算机积极拒绝，无法连接。\n",
      "[WinError 10061] 由于目标计算机积极拒绝，无法连接。\n",
      "on_close() takes 1 positional argument but 3 were given\n",
      "on_close() takes 1 positional argument but 3 were given\n",
      "[WinError 10061] 由于目标计算机积极拒绝，无法连接。\n",
      "[WinError 10061] 由于目标计算机积极拒绝，无法连接。\n",
      "on_close() takes 1 positional argument but 3 were given\n",
      "on_close() takes 1 positional argument but 3 were given\n",
      "[WinError 10061] 由于目标计算机积极拒绝，无法连接。\n",
      "[WinError 10061] 由于目标计算机积极拒绝，无法连接。\n",
      "on_close() takes 1 positional argument but 3 were given\n",
      "on_close() takes 1 positional argument but 3 were given\n",
      "[WinError 10061] 由于目标计算机积极拒绝，无法连接。\n",
      "on_close() takes 1 positional argument but 3 were given\n",
      "[WinError 10061] 由于目标计算机积极拒绝，无法连接。\n",
      "on_close() takes 1 positional argument but 3 were given\n",
      "[WinError 10061] 由于目标计算机积极拒绝，无法连接。\n",
      "[WinError 10061] 由于目标计算机积极拒绝，无法连接。\n",
      "on_close() takes 1 positional argument but 3 were given\n",
      "on_close() takes 1 positional argument but 3 were given\n"
     ]
    }
   ],
   "source": [
    "#两条曲线\n",
    "train_loss = []\n",
    "test_loss = []\n",
    "for epoch in range(50):\n",
    "    train_loss.append(epoch**0.9)\n",
    "    test_loss.append(epoch**0.5)\n",
    "    vis.dual_axis_lines(torch.arange(epoch+1),\n",
    "        torch.Tensor(train_loss),\n",
    "        torch.Tensor(test_loss), win=\"res\", opts=dict(title='Title',name_y1='Train Loss',name_y2='Test Loss'))"
   ]
  }
 ],
 "metadata": {
  "kernelspec": {
   "display_name": "Python 3",
   "language": "python",
   "name": "python3"
  },
  "language_info": {
   "codemirror_mode": {
    "name": "ipython",
    "version": 3
   },
   "file_extension": ".py",
   "mimetype": "text/x-python",
   "name": "python",
   "nbconvert_exporter": "python",
   "pygments_lexer": "ipython3",
   "version": "3.9.2"
  },
  "orig_nbformat": 4
 },
 "nbformat": 4,
 "nbformat_minor": 2
}
